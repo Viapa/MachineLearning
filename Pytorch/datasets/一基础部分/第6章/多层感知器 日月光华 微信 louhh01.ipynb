{
 "cells": [
  {
   "cell_type": "code",
   "execution_count": 1,
   "id": "e44f7850",
   "metadata": {},
   "outputs": [],
   "source": [
    "import torchvision\n",
    "from torchvision.transforms import ToTensor\n",
    "import torch"
   ]
  },
  {
   "cell_type": "code",
   "execution_count": 2,
   "id": "f3f04389",
   "metadata": {},
   "outputs": [],
   "source": [
    "train_ds = torchvision.datasets.MNIST('data',\n",
    "                                      train=True,\n",
    "                                      transform=ToTensor(),\n",
    "                                      download=True)"
   ]
  },
  {
   "cell_type": "code",
   "execution_count": 3,
   "id": "8b41458b",
   "metadata": {},
   "outputs": [],
   "source": [
    "test_ds = torchvision.datasets.MNIST('data',\n",
    "                                      train=False,\n",
    "                                      transform=ToTensor(),\n",
    "                                      download=True)"
   ]
  },
  {
   "cell_type": "raw",
   "id": "9ca6d2b9",
   "metadata": {},
   "source": [
    "常见的图片格式： （高， 宽， 通道）"
   ]
  },
  {
   "cell_type": "raw",
   "id": "3ae2bcc5",
   "metadata": {},
   "source": [
    "ToTensor()  作用：\n",
    "\n",
    "    1. 将输入转为tensor\n",
    "    2. 规范图片格式为 (channel, height, width)\n",
    "    3. 将像素取值范围规范到（0，1）"
   ]
  },
  {
   "cell_type": "raw",
   "id": "4f6f93e7",
   "metadata": {},
   "source": [
    "torch.utils.data.DataLoader  对dataset进行封装：\n",
    "    1.乱序 shuffle\n",
    "    2.将数据采样为小批次 batch_size  : 小批次的批次训练\n",
    "    3. num_workers\n",
    "    4. 设置批次处理函数 collate_fn"
   ]
  },
  {
   "cell_type": "code",
   "execution_count": 4,
   "id": "c21ba9d5",
   "metadata": {},
   "outputs": [],
   "source": [
    "train_dl = torch.utils.data.DataLoader(train_ds, \n",
    "                                       batch_size=64,\n",
    "                                       shuffle=True)"
   ]
  },
  {
   "cell_type": "code",
   "execution_count": 5,
   "id": "37c8e29e",
   "metadata": {},
   "outputs": [],
   "source": [
    "test_dl = torch.utils.data.DataLoader(test_ds, \n",
    "                                       batch_size=64)"
   ]
  },
  {
   "cell_type": "code",
   "execution_count": 6,
   "id": "cfeb0e73",
   "metadata": {},
   "outputs": [],
   "source": [
    "imgs, labels = next(iter(train_dl))"
   ]
  },
  {
   "cell_type": "code",
   "execution_count": 7,
   "id": "c643fb2f",
   "metadata": {},
   "outputs": [
    {
     "data": {
      "text/plain": [
       "torch.Size([64, 1, 28, 28])"
      ]
     },
     "execution_count": 7,
     "metadata": {},
     "output_type": "execute_result"
    }
   ],
   "source": [
    "imgs.shape"
   ]
  },
  {
   "cell_type": "code",
   "execution_count": 8,
   "id": "7cd3aa64",
   "metadata": {},
   "outputs": [],
   "source": [
    "import matplotlib.pyplot as plt\n",
    "import numpy as np"
   ]
  },
  {
   "cell_type": "code",
   "execution_count": 9,
   "id": "2e443f0e",
   "metadata": {},
   "outputs": [
    {
     "data": {
      "image/png": "[encoded data removed]",
      "text/plain": [
       "<Figure size 720x72 with 10 Axes>"
      ]
     },
     "metadata": {
      "needs_background": "light"
     },
     "output_type": "display_data"
    }
   ],
   "source": [
    "plt.figure(figsize=(10, 1))\n",
    "for i, img in enumerate(imgs[:10]):\n",
    "    npimg = img.numpy()\n",
    "    npimg = np.squeeze(npimg)\n",
    "    plt.subplot(1, 10, i+1)\n",
    "    plt.imshow(npimg)\n",
    "    plt.axis('off')"
   ]
  },
  {
   "cell_type": "code",
   "execution_count": 10,
   "id": "5766e021",
   "metadata": {},
   "outputs": [
    {
     "data": {
      "text/plain": [
       "tensor([5, 5, 7, 1, 9, 4, 7, 1, 8, 8])"
      ]
     },
     "execution_count": 10,
     "metadata": {},
     "output_type": "execute_result"
    }
   ],
   "source": [
    "labels[:10]"
   ]
  },
  {
   "cell_type": "markdown",
   "id": "41b1fd35",
   "metadata": {},
   "source": [
    "# 激活函数"
   ]
  },
  {
   "cell_type": "code",
   "execution_count": 11,
   "id": "23f072e5",
   "metadata": {},
   "outputs": [],
   "source": [
    "# relu激活： f(x) = max(x, 0)"
   ]
  },
  {
   "cell_type": "code",
   "execution_count": 12,
   "id": "e4f069f9",
   "metadata": {},
   "outputs": [],
   "source": [
    "input = torch.randn(5)"
   ]
  },
  {
   "cell_type": "code",
   "execution_count": 13,
   "id": "9e09cb0f",
   "metadata": {},
   "outputs": [
    {
     "data": {
      "text/plain": [
       "tensor([ 0.9918,  0.5278,  0.2246, -1.3454,  0.1650])"
      ]
     },
     "execution_count": 13,
     "metadata": {},
     "output_type": "execute_result"
    }
   ],
   "source": [
    "input"
   ]
  },
  {
   "cell_type": "code",
   "execution_count": 14,
   "id": "5e6cd172",
   "metadata": {},
   "outputs": [
    {
     "data": {
      "text/plain": [
       "tensor([0.9918, 0.5278, 0.2246, 0.0000, 0.1650])"
      ]
     },
     "execution_count": 14,
     "metadata": {},
     "output_type": "execute_result"
    }
   ],
   "source": [
    "torch.relu(input)"
   ]
  },
  {
   "cell_type": "code",
   "execution_count": 15,
   "id": "c2b51757",
   "metadata": {},
   "outputs": [
    {
     "data": {
      "text/plain": [
       "tensor([0.7294, 0.6290, 0.5559, 0.2066, 0.5412])"
      ]
     },
     "execution_count": 15,
     "metadata": {},
     "output_type": "execute_result"
    }
   ],
   "source": [
    "torch.sigmoid(input)"
   ]
  },
  {
   "cell_type": "code",
   "execution_count": 16,
   "id": "486c1633",
   "metadata": {},
   "outputs": [
    {
     "data": {
      "text/plain": [
       "tensor([ 0.7581,  0.4837,  0.2209, -0.8730,  0.1635])"
      ]
     },
     "execution_count": 16,
     "metadata": {},
     "output_type": "execute_result"
    }
   ],
   "source": [
    "torch.tanh(input)"
   ]
  },
  {
   "cell_type": "code",
   "execution_count": 17,
   "id": "3750fedd",
   "metadata": {},
   "outputs": [],
   "source": [
    "from torch import nn"
   ]
  },
  {
   "cell_type": "code",
   "execution_count": 18,
   "id": "749c190e",
   "metadata": {},
   "outputs": [
    {
     "data": {
      "text/plain": [
       "LeakyReLU(negative_slope=tensor([ 0.9918,  0.5278,  0.2246, -1.3454,  0.1650]))"
      ]
     },
     "execution_count": 18,
     "metadata": {},
     "output_type": "execute_result"
    }
   ],
   "source": [
    "nn.LeakyReLU(input)"
   ]
  },
  {
   "cell_type": "code",
   "execution_count": 19,
   "id": "ff2a8649",
   "metadata": {},
   "outputs": [],
   "source": [
    "#创建多层感知器模型"
   ]
  },
  {
   "cell_type": "code",
   "execution_count": 20,
   "id": "9d07c980",
   "metadata": {},
   "outputs": [],
   "source": [
    "from torch import nn"
   ]
  },
  {
   "cell_type": "code",
   "execution_count": 21,
   "id": "a71da302",
   "metadata": {},
   "outputs": [],
   "source": [
    "# nn.Linear() # 全连接层 要求输入的数据是一维   （batch, features）"
   ]
  },
  {
   "cell_type": "code",
   "execution_count": 22,
   "id": "091fa530",
   "metadata": {},
   "outputs": [],
   "source": [
    "class Model(nn.Module):\n",
    "    def __init__(self):\n",
    "        super().__init__()\n",
    "        self.linear_1 = nn.Linear(28*28, 120)\n",
    "        self.linear_2 = nn.Linear(120, 84)\n",
    "        self.linear_3 = nn.Linear(84, 10)\n",
    "    def forward(self, input):\n",
    "        x = input.view(-1, 1*28*28)\n",
    "        x = torch.relu(self.linear_1(x))\n",
    "        x = torch.relu(self.linear_2(x))\n",
    "        logits = self.linear_3(x)\n",
    "        return logits    # 未激活的输出，叫做logits"
   ]
  },
  {
   "cell_type": "code",
   "execution_count": 23,
   "id": "57050805",
   "metadata": {},
   "outputs": [],
   "source": [
    "#模型输出是C个可能值上概率， C表示类别总数  np.argmax（[0.1， 0.2， 0.8]）\n",
    "\n",
    "#  logits                                 【5， 10， 40】"
   ]
  },
  {
   "cell_type": "markdown",
   "id": "6c5286aa",
   "metadata": {},
   "source": [
    "# 如何解析模型预测结果\n",
    "import numpy as np\n",
    "\n",
    "np.argmax([0.9, 0.04, 0.06])  \n",
    "\n",
    "# torch.argamx"
   ]
  },
  {
   "cell_type": "code",
   "execution_count": 24,
   "id": "3421350c",
   "metadata": {},
   "outputs": [],
   "source": [
    "# 两个概率分布的计算： [0.9, 0.04, 0.06]     [0, 0, 1]"
   ]
  },
  {
   "cell_type": "code",
   "execution_count": 25,
   "id": "9b172bc4",
   "metadata": {},
   "outputs": [],
   "source": [
    "# 定义损失函数\n",
    "loss_fn = torch.nn.CrossEntropyLoss()"
   ]
  },
  {
   "cell_type": "markdown",
   "id": "d77c8d9a",
   "metadata": {},
   "source": [
    "#损失函数的输入：\n",
    "\n",
    "loss_fn ： target ： 0，1，2、、、、  并不是独热编码的形式\n",
    "\n",
    "           input： logits"
   ]
  },
  {
   "cell_type": "code",
   "execution_count": 26,
   "id": "71a2f7a7",
   "metadata": {},
   "outputs": [],
   "source": [
    "# 优化： 根据计算得到的损失，调整模型参数，降低损失的过程  Adam、SGD"
   ]
  },
  {
   "cell_type": "code",
   "execution_count": 27,
   "id": "641e6168",
   "metadata": {},
   "outputs": [],
   "source": [
    "device = 'cuda' if torch.cuda.is_available() else 'cpu'\n",
    "model = Model().to(device)   # 初始化模型"
   ]
  },
  {
   "cell_type": "code",
   "execution_count": 28,
   "id": "6c3146ce",
   "metadata": {},
   "outputs": [],
   "source": [
    "opt = torch.optim.SGD(model.parameters(), lr=0.001)"
   ]
  },
  {
   "cell_type": "markdown",
   "id": "07b98679",
   "metadata": {},
   "source": [
    "# 编写训练循环"
   ]
  },
  {
   "cell_type": "code",
   "execution_count": 29,
   "id": "24cabe5c",
   "metadata": {},
   "outputs": [],
   "source": [
    "# 训练函数\n",
    "def train(dl, model, loss_fn, optimizer):\n",
    "    size = len(dl.dataset)    \n",
    "    num_batches = len(dl)\n",
    "        \n",
    "    train_loss, correct = 0, 0\n",
    "        \n",
    "    for x, y in dl:\n",
    "        x, y = x.to(device), y.to(device)\n",
    "        pred = model(x)\n",
    "        loss = loss_fn(pred, y)\n",
    "        optimizer.zero_grad()\n",
    "        loss.backward()\n",
    "        optimizer.step()\n",
    "        with torch.no_grad():\n",
    "            correct += (pred.argmax(1) == y).type(torch.float).sum().item()\n",
    "            train_loss += loss.item()\n",
    "    correct /= size\n",
    "    train_loss /= num_batches\n",
    "    return correct, train_loss"
   ]
  },
  {
   "cell_type": "code",
   "execution_count": 30,
   "id": "68ddf882",
   "metadata": {},
   "outputs": [],
   "source": [
    "# 测试函数\n",
    "def test(test_dl, model, loss_fn):\n",
    "    size = len(test_dl.dataset)    \n",
    "    num_batches = len(test_dl)\n",
    "    test_loss, correct = 0, 0\n",
    "    with torch.no_grad():\n",
    "        for x, y in test_dl:\n",
    "            x, y = x.to(device), y.to(device)\n",
    "            pred = model(x)\n",
    "            loss = loss_fn(pred, y)\n",
    "            test_loss += loss.item()\n",
    "            correct += (pred.argmax(1) == y).type(torch.float).sum().item()\n",
    "        correct /= size\n",
    "        test_loss /= num_batches\n",
    "        return correct, test_loss"
   ]
  },
  {
   "cell_type": "code",
   "execution_count": 31,
   "id": "fd0191b8",
   "metadata": {},
   "outputs": [],
   "source": [
    "# 训练50 个epoch， 每一个epoch代表将全部数据集训练一遍"
   ]
  },
  {
   "cell_type": "code",
   "execution_count": 33,
   "id": "7fb9dee0",
   "metadata": {},
   "outputs": [
    {
     "name": "stdout",
     "output_type": "stream",
     "text": [
      "epoch: 0, train_Loss:2.26532, train_acc:22.6,test_Loss:2.24497, test_acc:31.4\n",
      "epoch: 1, train_Loss:2.21908, train_acc:40.9,test_Loss:2.18577, test_acc:47.0\n",
      "epoch: 2, train_Loss:2.14184, train_acc:49.2,test_Loss:2.08323, test_acc:52.1\n",
      "epoch: 3, train_Loss:2.00979, train_acc:53.7,test_Loss:1.91367, test_acc:55.8\n",
      "epoch: 4, train_Loss:1.80388, train_acc:58.3,test_Loss:1.66454, test_acc:61.9\n",
      "epoch: 5, train_Loss:1.52970, train_acc:64.7,test_Loss:1.36716, test_acc:69.1\n",
      "epoch: 6, train_Loss:1.24585, train_acc:71.8,test_Loss:1.10310, test_acc:75.1\n",
      "epoch: 7, train_Loss:1.01981, train_acc:77.2,test_Loss:0.91211, test_acc:79.3\n",
      "epoch: 8, train_Loss:0.86152, train_acc:80.2,test_Loss:0.78138, test_acc:81.7\n",
      "epoch: 9, train_Loss:0.75283, train_acc:82.0,test_Loss:0.69128, test_acc:83.2\n",
      "epoch:10, train_Loss:0.67583, train_acc:83.1,test_Loss:0.62689, test_acc:84.3\n",
      "epoch:11, train_Loss:0.62001, train_acc:84.0,test_Loss:0.57849, test_acc:85.0\n",
      "epoch:12, train_Loss:0.57769, train_acc:84.8,test_Loss:0.54175, test_acc:85.8\n",
      "epoch:13, train_Loss:0.54458, train_acc:85.5,test_Loss:0.51263, test_acc:86.4\n",
      "epoch:14, train_Loss:0.51781, train_acc:86.1,test_Loss:0.48870, test_acc:86.8\n",
      "epoch:15, train_Loss:0.49562, train_acc:86.6,test_Loss:0.46858, test_acc:87.3\n",
      "epoch:16, train_Loss:0.47711, train_acc:87.0,test_Loss:0.45182, test_acc:87.6\n",
      "epoch:17, train_Loss:0.46121, train_acc:87.3,test_Loss:0.43717, test_acc:87.9\n",
      "epoch:18, train_Loss:0.44732, train_acc:87.7,test_Loss:0.42433, test_acc:88.2\n",
      "epoch:19, train_Loss:0.43537, train_acc:88.0,test_Loss:0.41360, test_acc:88.4\n",
      "epoch:20, train_Loss:0.42452, train_acc:88.2,test_Loss:0.40312, test_acc:88.7\n",
      "epoch:21, train_Loss:0.41494, train_acc:88.5,test_Loss:0.39520, test_acc:88.9\n",
      "epoch:22, train_Loss:0.40654, train_acc:88.7,test_Loss:0.38630, test_acc:89.1\n",
      "epoch:23, train_Loss:0.39852, train_acc:88.9,test_Loss:0.37896, test_acc:89.3\n",
      "epoch:24, train_Loss:0.39135, train_acc:89.0,test_Loss:0.37269, test_acc:89.5\n",
      "epoch:25, train_Loss:0.38473, train_acc:89.2,test_Loss:0.36698, test_acc:89.5\n",
      "epoch:26, train_Loss:0.37898, train_acc:89.3,test_Loss:0.36168, test_acc:89.7\n",
      "epoch:27, train_Loss:0.37314, train_acc:89.5,test_Loss:0.35649, test_acc:89.8\n",
      "epoch:28, train_Loss:0.36803, train_acc:89.6,test_Loss:0.35120, test_acc:89.9\n",
      "epoch:29, train_Loss:0.36299, train_acc:89.7,test_Loss:0.34659, test_acc:89.9\n",
      "epoch:30, train_Loss:0.35848, train_acc:89.8,test_Loss:0.34250, test_acc:90.0\n",
      "epoch:31, train_Loss:0.35409, train_acc:90.0,test_Loss:0.33820, test_acc:90.1\n",
      "epoch:32, train_Loss:0.35014, train_acc:90.1,test_Loss:0.33461, test_acc:90.3\n",
      "epoch:33, train_Loss:0.34620, train_acc:90.2,test_Loss:0.33127, test_acc:90.3\n",
      "epoch:34, train_Loss:0.34238, train_acc:90.3,test_Loss:0.32775, test_acc:90.5\n",
      "epoch:35, train_Loss:0.33912, train_acc:90.4,test_Loss:0.32436, test_acc:90.5\n",
      "epoch:36, train_Loss:0.33558, train_acc:90.5,test_Loss:0.32109, test_acc:90.5\n",
      "epoch:37, train_Loss:0.33234, train_acc:90.6,test_Loss:0.31788, test_acc:90.7\n",
      "epoch:38, train_Loss:0.32925, train_acc:90.6,test_Loss:0.31545, test_acc:90.6\n",
      "epoch:39, train_Loss:0.32634, train_acc:90.7,test_Loss:0.31260, test_acc:90.9\n",
      "epoch:40, train_Loss:0.32356, train_acc:90.8,test_Loss:0.30984, test_acc:90.9\n",
      "epoch:41, train_Loss:0.32084, train_acc:90.9,test_Loss:0.30769, test_acc:91.0\n",
      "epoch:42, train_Loss:0.31811, train_acc:90.9,test_Loss:0.30502, test_acc:91.1\n",
      "epoch:43, train_Loss:0.31548, train_acc:91.0,test_Loss:0.30278, test_acc:91.1\n",
      "epoch:44, train_Loss:0.31305, train_acc:91.1,test_Loss:0.30037, test_acc:91.4\n",
      "epoch:45, train_Loss:0.31053, train_acc:91.2,test_Loss:0.29801, test_acc:91.4\n",
      "epoch:46, train_Loss:0.30864, train_acc:91.2,test_Loss:0.29585, test_acc:91.4\n",
      "epoch:47, train_Loss:0.30594, train_acc:91.2,test_Loss:0.29362, test_acc:91.6\n",
      "epoch:48, train_Loss:0.30384, train_acc:91.3,test_Loss:0.29163, test_acc:91.6\n",
      "epoch:49, train_Loss:0.30139, train_acc:91.4,test_Loss:0.29041, test_acc:91.6\n",
      "Done\n"
     ]
    }
   ],
   "source": [
    "epochs = 50\n",
    "train_loss = []\n",
    "train_acc = []\n",
    "test_loss = []\n",
    "test_acc = []\n",
    "\n",
    "for epoch in range(epochs):\n",
    "    epoch_acc, epoch_loss = train(train_dl, model, loss_fn, opt)\n",
    "    epoch_test_acc, epoch_test_loss = test(test_dl, model, loss_fn)\n",
    "    train_acc.append(epoch_acc)\n",
    "    train_loss.append(epoch_loss)\n",
    "    test_acc.append(epoch_test_acc)\n",
    "    test_loss.append(epoch_test_loss)\n",
    "    \n",
    "    template = (\"epoch:{:2d}, train_Loss:{:.5f}, train_acc:{:.1f},test_Loss:{:.5f}, test_acc:{:.1f}\")\n",
    "    \n",
    "    print(template.format(epoch, epoch_loss, epoch_acc*100, epoch_test_loss, epoch_test_acc*100))\n",
    "print('Done')"
   ]
  },
  {
   "cell_type": "code",
   "execution_count": 34,
   "id": "31b0ea73",
   "metadata": {},
   "outputs": [],
   "source": [
    "import matplotlib.pyplot as plt"
   ]
  },
  {
   "cell_type": "code",
   "execution_count": 35,
   "id": "1168ae77",
   "metadata": {},
   "outputs": [
    {
     "data": {
      "text/plain": [
       "<matplotlib.legend.Legend at 0x12a20190ee0>"
      ]
     },
     "execution_count": 35,
     "metadata": {},
     "output_type": "execute_result"
    },
    {
     "data": {
      "image/png": "[encoded data removed]",
      "text/plain": [
       "<Figure size 432x288 with 1 Axes>"
      ]
     },
     "metadata": {
      "needs_background": "light"
     },
     "output_type": "display_data"
    }
   ],
   "source": [
    "plt.plot(range(epochs), train_loss, label='train_loss')\n",
    "plt.plot(range(epochs), test_loss, label='test_loss')\n",
    "plt.legend()"
   ]
  },
  {
   "cell_type": "code",
   "execution_count": 36,
   "id": "65c48e6d",
   "metadata": {},
   "outputs": [
    {
     "data": {
      "text/plain": [
       "<matplotlib.legend.Legend at 0x12a17801670>"
      ]
     },
     "execution_count": 36,
     "metadata": {},
     "output_type": "execute_result"
    },
    {
     "data": {
      "image/png": "[encoded data removed]",
      "text/plain": [
       "<Figure size 432x288 with 1 Axes>"
      ]
     },
     "metadata": {
      "needs_background": "light"
     },
     "output_type": "display_data"
    }
   ],
   "source": [
    "plt.plot(range(epochs), train_acc, label='train_acc')\n",
    "plt.plot(range(epochs), test_acc, label='test_acc')\n",
    "plt.legend()"
   ]
  },
  {
   "cell_type": "code",
   "execution_count": null,
   "id": "b0e8d6c4",
   "metadata": {},
   "outputs": [],
   "source": []
  }
 ],
 "metadata": {
  "kernelspec": {
   "display_name": "tch19gpu",
   "language": "python",
   "name": "tch19gpu"
  },
  "language_info": {
   "codemirror_mode": {
    "name": "ipython",
    "version": 3
   },
   "file_extension": ".py",
   "mimetype": "text/x-python",
   "name": "python",
   "nbconvert_exporter": "python",
   "pygments_lexer": "ipython3",
   "version": "3.8.10"
  }
 },
 "nbformat": 4,
 "nbformat_minor": 5
}
