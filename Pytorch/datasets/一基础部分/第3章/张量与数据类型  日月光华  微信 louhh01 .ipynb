{
 "cells": [
  {
   "cell_type": "code",
   "execution_count": 92,
   "id": "42ce6b65",
   "metadata": {},
   "outputs": [],
   "source": [
    "# 日月光华微信 louhh01   完整课程均在网易云课堂\n",
    "\n",
    "import torch\n",
    "import numpy as np\n",
    "from PIL import Image"
   ]
  },
  {
   "cell_type": "markdown",
   "id": "9d9f7988",
   "metadata": {},
   "source": [
    "# 初始化张量"
   ]
  },
  {
   "cell_type": "code",
   "execution_count": 2,
   "id": "dfde7d7e",
   "metadata": {},
   "outputs": [],
   "source": [
    "t = torch.tensor([1., 2., 3.])"
   ]
  },
  {
   "cell_type": "code",
   "execution_count": 3,
   "id": "4dc82f02",
   "metadata": {},
   "outputs": [
    {
     "data": {
      "text/plain": [
       "tensor([1., 2., 3.])"
      ]
     },
     "execution_count": 3,
     "metadata": {},
     "output_type": "execute_result"
    }
   ],
   "source": [
    "t"
   ]
  },
  {
   "cell_type": "code",
   "execution_count": 4,
   "id": "0cba7c58",
   "metadata": {},
   "outputs": [
    {
     "data": {
      "text/plain": [
       "torch.float32"
      ]
     },
     "execution_count": 4,
     "metadata": {},
     "output_type": "execute_result"
    }
   ],
   "source": [
    "t.dtype"
   ]
  },
  {
   "cell_type": "code",
   "execution_count": 5,
   "id": "5434b11a",
   "metadata": {},
   "outputs": [],
   "source": [
    "t = torch.FloatTensor([1, 2, 3])"
   ]
  },
  {
   "cell_type": "code",
   "execution_count": 6,
   "id": "d6d53e5f",
   "metadata": {},
   "outputs": [
    {
     "data": {
      "text/plain": [
       "torch.float32"
      ]
     },
     "execution_count": 6,
     "metadata": {},
     "output_type": "execute_result"
    }
   ],
   "source": [
    "t.dtype"
   ]
  },
  {
   "cell_type": "code",
   "execution_count": 7,
   "id": "a8f2f7c7",
   "metadata": {},
   "outputs": [],
   "source": [
    "t = torch.LongTensor([1, 2])"
   ]
  },
  {
   "cell_type": "code",
   "execution_count": 8,
   "id": "e0e91815",
   "metadata": {},
   "outputs": [
    {
     "data": {
      "text/plain": [
       "torch.int64"
      ]
     },
     "execution_count": 8,
     "metadata": {},
     "output_type": "execute_result"
    }
   ],
   "source": [
    "t.dtype"
   ]
  },
  {
   "cell_type": "code",
   "execution_count": 9,
   "id": "77171376",
   "metadata": {},
   "outputs": [],
   "source": [
    "np_array = np.arange(12).reshape(3, 4)"
   ]
  },
  {
   "cell_type": "code",
   "execution_count": 10,
   "id": "70554b86",
   "metadata": {},
   "outputs": [
    {
     "data": {
      "text/plain": [
       "array([[ 0,  1,  2,  3],\n",
       "       [ 4,  5,  6,  7],\n",
       "       [ 8,  9, 10, 11]])"
      ]
     },
     "execution_count": 10,
     "metadata": {},
     "output_type": "execute_result"
    }
   ],
   "source": [
    "np_array"
   ]
  },
  {
   "cell_type": "code",
   "execution_count": 11,
   "id": "2ceaf892",
   "metadata": {},
   "outputs": [
    {
     "data": {
      "text/plain": [
       "dtype('int32')"
      ]
     },
     "execution_count": 11,
     "metadata": {},
     "output_type": "execute_result"
    }
   ],
   "source": [
    "np_array.dtype"
   ]
  },
  {
   "cell_type": "code",
   "execution_count": 12,
   "id": "f6b8c45d",
   "metadata": {},
   "outputs": [],
   "source": [
    "t = torch.from_numpy(np_array)"
   ]
  },
  {
   "cell_type": "code",
   "execution_count": 13,
   "id": "766438aa",
   "metadata": {},
   "outputs": [
    {
     "data": {
      "text/plain": [
       "tensor([[ 0,  1,  2,  3],\n",
       "        [ 4,  5,  6,  7],\n",
       "        [ 8,  9, 10, 11]], dtype=torch.int32)"
      ]
     },
     "execution_count": 13,
     "metadata": {},
     "output_type": "execute_result"
    }
   ],
   "source": [
    "t"
   ]
  },
  {
   "cell_type": "code",
   "execution_count": 14,
   "id": "bed5ac7e",
   "metadata": {},
   "outputs": [],
   "source": [
    "t = torch.tensor([1, 2, 3], dtype=torch.float32)"
   ]
  },
  {
   "cell_type": "code",
   "execution_count": 15,
   "id": "bd800192",
   "metadata": {},
   "outputs": [
    {
     "data": {
      "text/plain": [
       "tensor([1., 2., 3.])"
      ]
     },
     "execution_count": 15,
     "metadata": {},
     "output_type": "execute_result"
    }
   ],
   "source": [
    "t"
   ]
  },
  {
   "cell_type": "code",
   "execution_count": 16,
   "id": "8c882ded",
   "metadata": {},
   "outputs": [
    {
     "data": {
      "text/plain": [
       "torch.float32"
      ]
     },
     "execution_count": 16,
     "metadata": {},
     "output_type": "execute_result"
    }
   ],
   "source": [
    "t.dtype"
   ]
  },
  {
   "cell_type": "code",
   "execution_count": 17,
   "id": "c0d3a90b",
   "metadata": {},
   "outputs": [],
   "source": [
    "t = torch.tensor([1, 2, 3], dtype=torch.float)"
   ]
  },
  {
   "cell_type": "code",
   "execution_count": 18,
   "id": "8a192b47",
   "metadata": {},
   "outputs": [
    {
     "data": {
      "text/plain": [
       "tensor([1., 2., 3.])"
      ]
     },
     "execution_count": 18,
     "metadata": {},
     "output_type": "execute_result"
    }
   ],
   "source": [
    "t"
   ]
  },
  {
   "cell_type": "code",
   "execution_count": 19,
   "id": "865efa70",
   "metadata": {},
   "outputs": [
    {
     "data": {
      "text/plain": [
       "torch.float32"
      ]
     },
     "execution_count": 19,
     "metadata": {},
     "output_type": "execute_result"
    }
   ],
   "source": [
    "t.dtype"
   ]
  },
  {
   "cell_type": "code",
   "execution_count": 20,
   "id": "86f90bd0",
   "metadata": {},
   "outputs": [],
   "source": [
    "t = torch.tensor([1, 2, 3], dtype=torch.long)"
   ]
  },
  {
   "cell_type": "code",
   "execution_count": 21,
   "id": "75eac827",
   "metadata": {},
   "outputs": [
    {
     "data": {
      "text/plain": [
       "tensor([1, 2, 3])"
      ]
     },
     "execution_count": 21,
     "metadata": {},
     "output_type": "execute_result"
    }
   ],
   "source": [
    "t"
   ]
  },
  {
   "cell_type": "code",
   "execution_count": 22,
   "id": "3b301b66",
   "metadata": {},
   "outputs": [
    {
     "data": {
      "text/plain": [
       "torch.int64"
      ]
     },
     "execution_count": 22,
     "metadata": {},
     "output_type": "execute_result"
    }
   ],
   "source": [
    "t.dtype"
   ]
  },
  {
   "cell_type": "code",
   "execution_count": 23,
   "id": "bcb6d2ca",
   "metadata": {},
   "outputs": [
    {
     "data": {
      "text/plain": [
       "tensor([[0.1324, 0.8890, 0.0413],\n",
       "        [0.9290, 0.8904, 0.9796]])"
      ]
     },
     "execution_count": 23,
     "metadata": {},
     "output_type": "execute_result"
    }
   ],
   "source": [
    "torch.rand(2, 3)"
   ]
  },
  {
   "cell_type": "code",
   "execution_count": 24,
   "id": "29236161",
   "metadata": {},
   "outputs": [],
   "source": [
    "t = torch.randn(2, 3)"
   ]
  },
  {
   "cell_type": "code",
   "execution_count": 25,
   "id": "abac448f",
   "metadata": {},
   "outputs": [
    {
     "data": {
      "text/plain": [
       "tensor([[ 0.2424, -0.5837,  0.1324],\n",
       "        [ 0.1443,  0.1288, -0.4121]])"
      ]
     },
     "execution_count": 25,
     "metadata": {},
     "output_type": "execute_result"
    }
   ],
   "source": [
    "t"
   ]
  },
  {
   "cell_type": "code",
   "execution_count": 26,
   "id": "f40d54cc",
   "metadata": {},
   "outputs": [
    {
     "data": {
      "text/plain": [
       "torch.Size([2, 3])"
      ]
     },
     "execution_count": 26,
     "metadata": {},
     "output_type": "execute_result"
    }
   ],
   "source": [
    "t.shape"
   ]
  },
  {
   "cell_type": "code",
   "execution_count": 27,
   "id": "27f6bb4b",
   "metadata": {},
   "outputs": [
    {
     "data": {
      "text/plain": [
       "tensor([[0., 0., 0., 0.],\n",
       "        [0., 0., 0., 0.],\n",
       "        [0., 0., 0., 0.]])"
      ]
     },
     "execution_count": 27,
     "metadata": {},
     "output_type": "execute_result"
    }
   ],
   "source": [
    "torch.zeros(3, 4)"
   ]
  },
  {
   "cell_type": "code",
   "execution_count": 28,
   "id": "c5d39828",
   "metadata": {},
   "outputs": [
    {
     "data": {
      "text/plain": [
       "tensor([[1., 1.],\n",
       "        [1., 1.],\n",
       "        [1., 1.]])"
      ]
     },
     "execution_count": 28,
     "metadata": {},
     "output_type": "execute_result"
    }
   ],
   "source": [
    "torch.ones(3, 2)"
   ]
  },
  {
   "cell_type": "code",
   "execution_count": 29,
   "id": "73527379",
   "metadata": {},
   "outputs": [
    {
     "data": {
      "text/plain": [
       "tensor([[ 0.2424, -0.5837,  0.1324],\n",
       "        [ 0.1443,  0.1288, -0.4121]])"
      ]
     },
     "execution_count": 29,
     "metadata": {},
     "output_type": "execute_result"
    }
   ],
   "source": [
    "t"
   ]
  },
  {
   "cell_type": "code",
   "execution_count": 30,
   "id": "08146a0b",
   "metadata": {},
   "outputs": [
    {
     "data": {
      "text/plain": [
       "torch.float32"
      ]
     },
     "execution_count": 30,
     "metadata": {},
     "output_type": "execute_result"
    }
   ],
   "source": [
    "t.dtype"
   ]
  },
  {
   "cell_type": "code",
   "execution_count": 31,
   "id": "c6b60ced",
   "metadata": {},
   "outputs": [],
   "source": [
    "x = torch.zeros_like(t)"
   ]
  },
  {
   "cell_type": "code",
   "execution_count": 32,
   "id": "ede1b8ee",
   "metadata": {},
   "outputs": [
    {
     "data": {
      "text/plain": [
       "tensor([[0., 0., 0.],\n",
       "        [0., 0., 0.]])"
      ]
     },
     "execution_count": 32,
     "metadata": {},
     "output_type": "execute_result"
    }
   ],
   "source": [
    "x"
   ]
  },
  {
   "cell_type": "code",
   "execution_count": 33,
   "id": "477f9b1e",
   "metadata": {},
   "outputs": [
    {
     "data": {
      "text/plain": [
       "torch.float32"
      ]
     },
     "execution_count": 33,
     "metadata": {},
     "output_type": "execute_result"
    }
   ],
   "source": [
    "x.dtype"
   ]
  },
  {
   "cell_type": "code",
   "execution_count": 34,
   "id": "35b1c022",
   "metadata": {},
   "outputs": [],
   "source": [
    "x = torch.rand_like(t)"
   ]
  },
  {
   "cell_type": "code",
   "execution_count": 35,
   "id": "415021d0",
   "metadata": {},
   "outputs": [
    {
     "data": {
      "text/plain": [
       "tensor([[0.4426, 0.0949, 0.4177],\n",
       "        [0.0608, 0.9209, 0.9679]])"
      ]
     },
     "execution_count": 35,
     "metadata": {},
     "output_type": "execute_result"
    }
   ],
   "source": [
    "x"
   ]
  },
  {
   "cell_type": "code",
   "execution_count": 36,
   "id": "159e4b9d",
   "metadata": {},
   "outputs": [
    {
     "data": {
      "text/plain": [
       "torch.Size([2, 3])"
      ]
     },
     "execution_count": 36,
     "metadata": {},
     "output_type": "execute_result"
    }
   ],
   "source": [
    "t.shape"
   ]
  },
  {
   "cell_type": "code",
   "execution_count": 37,
   "id": "1a349f4b",
   "metadata": {},
   "outputs": [
    {
     "data": {
      "text/plain": [
       "torch.Size([2, 3])"
      ]
     },
     "execution_count": 37,
     "metadata": {},
     "output_type": "execute_result"
    }
   ],
   "source": [
    "t.size()"
   ]
  },
  {
   "cell_type": "code",
   "execution_count": 38,
   "id": "084c2671",
   "metadata": {},
   "outputs": [
    {
     "data": {
      "text/plain": [
       "2"
      ]
     },
     "execution_count": 38,
     "metadata": {},
     "output_type": "execute_result"
    }
   ],
   "source": [
    "t.size(0)"
   ]
  },
  {
   "cell_type": "code",
   "execution_count": 39,
   "id": "425c45c8",
   "metadata": {},
   "outputs": [
    {
     "data": {
      "text/plain": [
       "3"
      ]
     },
     "execution_count": 39,
     "metadata": {},
     "output_type": "execute_result"
    }
   ],
   "source": [
    "t.size(1)"
   ]
  },
  {
   "cell_type": "code",
   "execution_count": 40,
   "id": "e4d79967",
   "metadata": {},
   "outputs": [
    {
     "data": {
      "text/plain": [
       "device(type='cpu')"
      ]
     },
     "execution_count": 40,
     "metadata": {},
     "output_type": "execute_result"
    }
   ],
   "source": [
    "t.device"
   ]
  },
  {
   "cell_type": "code",
   "execution_count": 41,
   "id": "9e71b8ca",
   "metadata": {},
   "outputs": [],
   "source": [
    "if torch.cuda.is_available():\n",
    "    t = t.to('cuda')"
   ]
  },
  {
   "cell_type": "code",
   "execution_count": 42,
   "id": "8afe7d9b",
   "metadata": {},
   "outputs": [
    {
     "data": {
      "text/plain": [
       "device(type='cuda', index=0)"
      ]
     },
     "execution_count": 42,
     "metadata": {},
     "output_type": "execute_result"
    }
   ],
   "source": [
    "t.device"
   ]
  },
  {
   "cell_type": "code",
   "execution_count": 43,
   "id": "bf684a08",
   "metadata": {},
   "outputs": [],
   "source": [
    "t = t.to('cpu')"
   ]
  },
  {
   "cell_type": "code",
   "execution_count": 44,
   "id": "c1d0ee19",
   "metadata": {},
   "outputs": [
    {
     "data": {
      "text/plain": [
       "device(type='cpu')"
      ]
     },
     "execution_count": 44,
     "metadata": {},
     "output_type": "execute_result"
    }
   ],
   "source": [
    "t.device"
   ]
  },
  {
   "cell_type": "markdown",
   "id": "57493b9a",
   "metadata": {},
   "source": [
    "# 数据类型的转换"
   ]
  },
  {
   "cell_type": "code",
   "execution_count": 52,
   "id": "83f20779",
   "metadata": {},
   "outputs": [
    {
     "data": {
      "text/plain": [
       "tensor([[ 0.2424, -0.5837,  0.1324],\n",
       "        [ 0.1443,  0.1288, -0.4121]])"
      ]
     },
     "execution_count": 52,
     "metadata": {},
     "output_type": "execute_result"
    }
   ],
   "source": [
    "t"
   ]
  },
  {
   "cell_type": "code",
   "execution_count": 53,
   "id": "cc26f432",
   "metadata": {},
   "outputs": [
    {
     "data": {
      "text/plain": [
       "torch.float32"
      ]
     },
     "execution_count": 53,
     "metadata": {},
     "output_type": "execute_result"
    }
   ],
   "source": [
    "t.dtype"
   ]
  },
  {
   "cell_type": "code",
   "execution_count": 54,
   "id": "8f359c38",
   "metadata": {},
   "outputs": [],
   "source": [
    "t = t.type(torch.float16)"
   ]
  },
  {
   "cell_type": "code",
   "execution_count": 55,
   "id": "f6484204",
   "metadata": {},
   "outputs": [
    {
     "data": {
      "text/plain": [
       "tensor([[ 0.2424, -0.5835,  0.1323],\n",
       "        [ 0.1443,  0.1288, -0.4121]], dtype=torch.float16)"
      ]
     },
     "execution_count": 55,
     "metadata": {},
     "output_type": "execute_result"
    }
   ],
   "source": [
    "t"
   ]
  },
  {
   "cell_type": "code",
   "execution_count": 56,
   "id": "7e91acd1",
   "metadata": {},
   "outputs": [
    {
     "data": {
      "text/plain": [
       "torch.float16"
      ]
     },
     "execution_count": 56,
     "metadata": {},
     "output_type": "execute_result"
    }
   ],
   "source": [
    "t.dtype"
   ]
  },
  {
   "cell_type": "code",
   "execution_count": 57,
   "id": "17ea9997",
   "metadata": {},
   "outputs": [],
   "source": [
    "t = t.type(torch.int16)"
   ]
  },
  {
   "cell_type": "code",
   "execution_count": 58,
   "id": "6c087023",
   "metadata": {},
   "outputs": [
    {
     "data": {
      "text/plain": [
       "tensor([[0, 0, 0],\n",
       "        [0, 0, 0]], dtype=torch.int16)"
      ]
     },
     "execution_count": 58,
     "metadata": {},
     "output_type": "execute_result"
    }
   ],
   "source": [
    "t"
   ]
  },
  {
   "cell_type": "raw",
   "id": "a53661c0",
   "metadata": {},
   "source": [
    ".long()  和  .float()\n",
    "int64        float32"
   ]
  },
  {
   "cell_type": "code",
   "execution_count": 59,
   "id": "613a2247",
   "metadata": {},
   "outputs": [],
   "source": [
    "t = torch.randn(2, 3)"
   ]
  },
  {
   "cell_type": "code",
   "execution_count": 60,
   "id": "7ddf9553",
   "metadata": {},
   "outputs": [
    {
     "data": {
      "text/plain": [
       "tensor([[-0.4673, -0.2777, -1.3591],\n",
       "        [-1.4651, -0.4094,  0.5008]])"
      ]
     },
     "execution_count": 60,
     "metadata": {},
     "output_type": "execute_result"
    }
   ],
   "source": [
    "t"
   ]
  },
  {
   "cell_type": "code",
   "execution_count": 61,
   "id": "3d553ecf",
   "metadata": {},
   "outputs": [
    {
     "data": {
      "text/plain": [
       "tensor([[ 0,  0, -1],\n",
       "        [-1,  0,  0]])"
      ]
     },
     "execution_count": 61,
     "metadata": {},
     "output_type": "execute_result"
    }
   ],
   "source": [
    "t.long()     # t.type(torch.int64)"
   ]
  },
  {
   "cell_type": "code",
   "execution_count": 62,
   "id": "f5e719a9",
   "metadata": {},
   "outputs": [
    {
     "data": {
      "text/plain": [
       "tensor([[-0.4673, -0.2777, -1.3591],\n",
       "        [-1.4651, -0.4094,  0.5008]])"
      ]
     },
     "execution_count": 62,
     "metadata": {},
     "output_type": "execute_result"
    }
   ],
   "source": [
    "t.float()"
   ]
  },
  {
   "cell_type": "markdown",
   "id": "3a47b177",
   "metadata": {},
   "source": [
    "# 张量运算"
   ]
  },
  {
   "cell_type": "code",
   "execution_count": 63,
   "id": "d5dc64ab",
   "metadata": {},
   "outputs": [
    {
     "data": {
      "text/plain": [
       "tensor([[-0.4673, -0.2777, -1.3591],\n",
       "        [-1.4651, -0.4094,  0.5008]])"
      ]
     },
     "execution_count": 63,
     "metadata": {},
     "output_type": "execute_result"
    }
   ],
   "source": [
    "t"
   ]
  },
  {
   "cell_type": "code",
   "execution_count": 64,
   "id": "9c95fd7d",
   "metadata": {},
   "outputs": [
    {
     "data": {
      "text/plain": [
       "tensor([[2.5327, 2.7223, 1.6409],\n",
       "        [1.5349, 2.5906, 3.5008]])"
      ]
     },
     "execution_count": 64,
     "metadata": {},
     "output_type": "execute_result"
    }
   ],
   "source": [
    "t + 3"
   ]
  },
  {
   "cell_type": "code",
   "execution_count": 65,
   "id": "37cf0f99",
   "metadata": {},
   "outputs": [],
   "source": [
    "t1 = torch.ones(2, 3)"
   ]
  },
  {
   "cell_type": "code",
   "execution_count": 66,
   "id": "2f07fbee",
   "metadata": {},
   "outputs": [
    {
     "data": {
      "text/plain": [
       "tensor([[1., 1., 1.],\n",
       "        [1., 1., 1.]])"
      ]
     },
     "execution_count": 66,
     "metadata": {},
     "output_type": "execute_result"
    }
   ],
   "source": [
    "t1"
   ]
  },
  {
   "cell_type": "code",
   "execution_count": 67,
   "id": "d208d278",
   "metadata": {},
   "outputs": [
    {
     "data": {
      "text/plain": [
       "tensor([[ 0.5327,  0.7223, -0.3591],\n",
       "        [-0.4651,  0.5906,  1.5008]])"
      ]
     },
     "execution_count": 67,
     "metadata": {},
     "output_type": "execute_result"
    }
   ],
   "source": [
    "t + t1"
   ]
  },
  {
   "cell_type": "code",
   "execution_count": 68,
   "id": "7e6ceef1",
   "metadata": {},
   "outputs": [
    {
     "data": {
      "text/plain": [
       "tensor([[ 0.5327,  0.7223, -0.3591],\n",
       "        [-0.4651,  0.5906,  1.5008]])"
      ]
     },
     "execution_count": 68,
     "metadata": {},
     "output_type": "execute_result"
    }
   ],
   "source": [
    "t.add(t1)"
   ]
  },
  {
   "cell_type": "code",
   "execution_count": 69,
   "id": "970fa77b",
   "metadata": {},
   "outputs": [
    {
     "data": {
      "text/plain": [
       "tensor([[-0.4673, -0.2777, -1.3591],\n",
       "        [-1.4651, -0.4094,  0.5008]])"
      ]
     },
     "execution_count": 69,
     "metadata": {},
     "output_type": "execute_result"
    }
   ],
   "source": [
    "t"
   ]
  },
  {
   "cell_type": "code",
   "execution_count": 70,
   "id": "de9ef2c8",
   "metadata": {},
   "outputs": [
    {
     "data": {
      "text/plain": [
       "tensor([[ 0.5327,  0.7223, -0.3591],\n",
       "        [-0.4651,  0.5906,  1.5008]])"
      ]
     },
     "execution_count": 70,
     "metadata": {},
     "output_type": "execute_result"
    }
   ],
   "source": [
    "t.add_(t1)"
   ]
  },
  {
   "cell_type": "code",
   "execution_count": 71,
   "id": "5209ef7a",
   "metadata": {},
   "outputs": [
    {
     "data": {
      "text/plain": [
       "tensor([[ 0.5327,  0.7223, -0.3591],\n",
       "        [-0.4651,  0.5906,  1.5008]])"
      ]
     },
     "execution_count": 71,
     "metadata": {},
     "output_type": "execute_result"
    }
   ],
   "source": [
    "t"
   ]
  },
  {
   "cell_type": "code",
   "execution_count": null,
   "id": "c3be2cf0",
   "metadata": {},
   "outputs": [],
   "source": [
    "abs, mean, cumsum, multiply, divide"
   ]
  },
  {
   "cell_type": "code",
   "execution_count": 72,
   "id": "08071ccd",
   "metadata": {},
   "outputs": [
    {
     "data": {
      "text/plain": [
       "tensor([[0.5327, 0.7223, 0.3591],\n",
       "        [0.4651, 0.5906, 1.5008]])"
      ]
     },
     "execution_count": 72,
     "metadata": {},
     "output_type": "execute_result"
    }
   ],
   "source": [
    "torch.abs(t)"
   ]
  },
  {
   "cell_type": "code",
   "execution_count": 73,
   "id": "9110bfc5",
   "metadata": {},
   "outputs": [
    {
     "data": {
      "text/plain": [
       "tensor([[ 0.5327,  0.7223, -0.3591],\n",
       "        [-0.4651,  0.5906,  1.5008]])"
      ]
     },
     "execution_count": 73,
     "metadata": {},
     "output_type": "execute_result"
    }
   ],
   "source": [
    "t"
   ]
  },
  {
   "cell_type": "code",
   "execution_count": 74,
   "id": "0d03e511",
   "metadata": {},
   "outputs": [
    {
     "data": {
      "text/plain": [
       "tensor(0.4203)"
      ]
     },
     "execution_count": 74,
     "metadata": {},
     "output_type": "execute_result"
    }
   ],
   "source": [
    "torch.mean(t)"
   ]
  },
  {
   "cell_type": "code",
   "execution_count": 75,
   "id": "bd1c04ed",
   "metadata": {},
   "outputs": [
    {
     "data": {
      "text/plain": [
       "tensor(0.4203)"
      ]
     },
     "execution_count": 75,
     "metadata": {},
     "output_type": "execute_result"
    }
   ],
   "source": [
    "t.mean()"
   ]
  },
  {
   "cell_type": "code",
   "execution_count": 76,
   "id": "6ff32a17",
   "metadata": {},
   "outputs": [
    {
     "data": {
      "text/plain": [
       "tensor(2.5221)"
      ]
     },
     "execution_count": 76,
     "metadata": {},
     "output_type": "execute_result"
    }
   ],
   "source": [
    "t.sum()"
   ]
  },
  {
   "cell_type": "code",
   "execution_count": null,
   "id": "1a894320",
   "metadata": {},
   "outputs": [],
   "source": [
    "# matmul  矩阵乘法"
   ]
  },
  {
   "cell_type": "code",
   "execution_count": 79,
   "id": "f07ff062",
   "metadata": {},
   "outputs": [
    {
     "data": {
      "text/plain": [
       "tensor([[ 0.5327, -0.4651],\n",
       "        [ 0.7223,  0.5906],\n",
       "        [-0.3591,  1.5008]])"
      ]
     },
     "execution_count": 79,
     "metadata": {},
     "output_type": "execute_result"
    }
   ],
   "source": [
    "t.T     # 转置  shape  ： (3, 2)"
   ]
  },
  {
   "cell_type": "code",
   "execution_count": 80,
   "id": "e870df8f",
   "metadata": {},
   "outputs": [
    {
     "data": {
      "text/plain": [
       "tensor([[ 0.9344, -0.3601],\n",
       "        [-0.3601,  2.8174]])"
      ]
     },
     "execution_count": 80,
     "metadata": {},
     "output_type": "execute_result"
    }
   ],
   "source": [
    "t.matmul(t.T)"
   ]
  },
  {
   "cell_type": "code",
   "execution_count": 81,
   "id": "cf02ac30",
   "metadata": {},
   "outputs": [
    {
     "data": {
      "text/plain": [
       "tensor([[ 0.9344, -0.3601],\n",
       "        [-0.3601,  2.8174]])"
      ]
     },
     "execution_count": 81,
     "metadata": {},
     "output_type": "execute_result"
    }
   ],
   "source": [
    "t@(t.T)"
   ]
  },
  {
   "cell_type": "code",
   "execution_count": 83,
   "id": "ae692708",
   "metadata": {},
   "outputs": [
    {
     "data": {
      "text/plain": [
       "2.522092342376709"
      ]
     },
     "execution_count": 83,
     "metadata": {},
     "output_type": "execute_result"
    }
   ],
   "source": [
    "t.sum().item()"
   ]
  },
  {
   "cell_type": "code",
   "execution_count": 85,
   "id": "203f1d14",
   "metadata": {},
   "outputs": [],
   "source": [
    "result = t.mean()"
   ]
  },
  {
   "cell_type": "code",
   "execution_count": 88,
   "id": "ec4e35c3",
   "metadata": {},
   "outputs": [
    {
     "data": {
      "text/plain": [
       "0.42034873366355896"
      ]
     },
     "execution_count": 88,
     "metadata": {},
     "output_type": "execute_result"
    }
   ],
   "source": [
    "result.item()"
   ]
  },
  {
   "cell_type": "code",
   "execution_count": 89,
   "id": "f9c16e30",
   "metadata": {},
   "outputs": [],
   "source": [
    "t1 = torch.from_numpy(np.random.randn(3, 4))"
   ]
  },
  {
   "cell_type": "code",
   "execution_count": 90,
   "id": "0315cbc2",
   "metadata": {},
   "outputs": [
    {
     "data": {
      "text/plain": [
       "tensor([[ 0.2355, -0.2388,  0.2133, -0.1362],\n",
       "        [-0.5435,  1.3310, -0.1473,  0.3126],\n",
       "        [ 0.6296,  0.4738, -0.4539, -0.1988]], dtype=torch.float64)"
      ]
     },
     "execution_count": 90,
     "metadata": {},
     "output_type": "execute_result"
    }
   ],
   "source": [
    "t1"
   ]
  },
  {
   "cell_type": "code",
   "execution_count": 91,
   "id": "af09b076",
   "metadata": {},
   "outputs": [
    {
     "data": {
      "text/plain": [
       "array([[ 0.2354647 , -0.2388478 ,  0.21325789, -0.13618727],\n",
       "       [-0.54353796,  1.33095923, -0.14730685,  0.31263526],\n",
       "       [ 0.6296136 ,  0.47376939, -0.4539361 , -0.19877534]])"
      ]
     },
     "execution_count": 91,
     "metadata": {},
     "output_type": "execute_result"
    }
   ],
   "source": [
    "t1.numpy()"
   ]
  },
  {
   "cell_type": "code",
   "execution_count": 102,
   "id": "d27c74de",
   "metadata": {},
   "outputs": [
    {
     "data": {
      "image/png": "[encoded data removed]",
      "text/plain": [
       "<PIL.Image.Image image mode=RGB size=200x200 at 0x20733C89190>"
      ]
     },
     "execution_count": 102,
     "metadata": {},
     "output_type": "execute_result"
    }
   ],
   "source": [
    "Image.open(r'日月光华微信.jpg').resize((200, 200))"
   ]
  },
  {
   "cell_type": "markdown",
   "id": "e1afae9d",
   "metadata": {},
   "source": [
    "# 张量的变形与自动微分"
   ]
  },
  {
   "cell_type": "code",
   "execution_count": 103,
   "id": "f153e693",
   "metadata": {},
   "outputs": [],
   "source": [
    "t = torch.randn(4, 6)"
   ]
  },
  {
   "cell_type": "code",
   "execution_count": 104,
   "id": "0a2648f4",
   "metadata": {},
   "outputs": [
    {
     "data": {
      "text/plain": [
       "torch.Size([4, 6])"
      ]
     },
     "execution_count": 104,
     "metadata": {},
     "output_type": "execute_result"
    }
   ],
   "source": [
    "t.shape"
   ]
  },
  {
   "cell_type": "code",
   "execution_count": 105,
   "id": "62844946",
   "metadata": {},
   "outputs": [
    {
     "data": {
      "text/plain": [
       "tensor([[ 0.6944, -0.0537,  0.9996, -0.7229,  0.3247,  0.9973],\n",
       "        [-0.7198,  1.8806,  1.3363,  1.0986, -1.6875,  0.1862],\n",
       "        [ 2.2250, -0.4404, -0.3617,  1.1283,  0.4459,  0.2039],\n",
       "        [-2.2014, -0.9815, -0.1707,  0.5598, -0.3142, -1.3065]])"
      ]
     },
     "execution_count": 105,
     "metadata": {},
     "output_type": "execute_result"
    }
   ],
   "source": [
    "t"
   ]
  },
  {
   "cell_type": "code",
   "execution_count": 107,
   "id": "73f8ec86",
   "metadata": {},
   "outputs": [],
   "source": [
    "t1 = t.view(3, 8)"
   ]
  },
  {
   "cell_type": "code",
   "execution_count": 108,
   "id": "0561b810",
   "metadata": {},
   "outputs": [
    {
     "data": {
      "text/plain": [
       "torch.Size([3, 8])"
      ]
     },
     "execution_count": 108,
     "metadata": {},
     "output_type": "execute_result"
    }
   ],
   "source": [
    "t1.shape"
   ]
  },
  {
   "cell_type": "code",
   "execution_count": 109,
   "id": "9734c66f",
   "metadata": {},
   "outputs": [],
   "source": [
    "t2 = t.view(2, 12)"
   ]
  },
  {
   "cell_type": "code",
   "execution_count": 110,
   "id": "4eb55277",
   "metadata": {},
   "outputs": [
    {
     "data": {
      "text/plain": [
       "tensor([[ 0.6944, -0.0537,  0.9996, -0.7229,  0.3247,  0.9973, -0.7198,  1.8806,\n",
       "          1.3363,  1.0986, -1.6875,  0.1862],\n",
       "        [ 2.2250, -0.4404, -0.3617,  1.1283,  0.4459,  0.2039, -2.2014, -0.9815,\n",
       "         -0.1707,  0.5598, -0.3142, -1.3065]])"
      ]
     },
     "execution_count": 110,
     "metadata": {},
     "output_type": "execute_result"
    }
   ],
   "source": [
    "t2"
   ]
  },
  {
   "cell_type": "code",
   "execution_count": 111,
   "id": "efc5123f",
   "metadata": {},
   "outputs": [
    {
     "ename": "RuntimeError",
     "evalue": "shape '[2, 5]' is invalid for input of size 24",
     "output_type": "error",
     "traceback": [
      "\u001b[1;31m-------------------------------------------------------------------------\u001b[0m",
      "\u001b[1;31mRuntimeError\u001b[0m                            Traceback (most recent call last)",
      "\u001b[1;32m<ipython-input-111-9c8bbaa040a7>\u001b[0m in \u001b[0;36m<module>\u001b[1;34m\u001b[0m\n\u001b[1;32m----> 1\u001b[1;33m \u001b[0mt\u001b[0m\u001b[1;33m.\u001b[0m\u001b[0mview\u001b[0m\u001b[1;33m(\u001b[0m\u001b[1;36m2\u001b[0m\u001b[1;33m,\u001b[0m \u001b[1;36m5\u001b[0m\u001b[1;33m)\u001b[0m\u001b[1;33m\u001b[0m\u001b[1;33m\u001b[0m\u001b[0m\n\u001b[0m",
      "\u001b[1;31mRuntimeError\u001b[0m: shape '[2, 5]' is invalid for input of size 24"
     ]
    }
   ],
   "source": [
    "t.view(2, 5)"
   ]
  },
  {
   "cell_type": "code",
   "execution_count": 112,
   "id": "7967cf13",
   "metadata": {},
   "outputs": [
    {
     "data": {
      "text/plain": [
       "tensor([[ 0.6944, -0.0537,  0.9996, -0.7229,  0.3247,  0.9973],\n",
       "        [-0.7198,  1.8806,  1.3363,  1.0986, -1.6875,  0.1862],\n",
       "        [ 2.2250, -0.4404, -0.3617,  1.1283,  0.4459,  0.2039],\n",
       "        [-2.2014, -0.9815, -0.1707,  0.5598, -0.3142, -1.3065]])"
      ]
     },
     "execution_count": 112,
     "metadata": {},
     "output_type": "execute_result"
    }
   ],
   "source": [
    "t"
   ]
  },
  {
   "cell_type": "code",
   "execution_count": 113,
   "id": "920885b8",
   "metadata": {},
   "outputs": [
    {
     "data": {
      "text/plain": [
       "tensor([[ 0.6944],\n",
       "        [-0.0537],\n",
       "        [ 0.9996],\n",
       "        [-0.7229],\n",
       "        [ 0.3247],\n",
       "        [ 0.9973],\n",
       "        [-0.7198],\n",
       "        [ 1.8806],\n",
       "        [ 1.3363],\n",
       "        [ 1.0986],\n",
       "        [-1.6875],\n",
       "        [ 0.1862],\n",
       "        [ 2.2250],\n",
       "        [-0.4404],\n",
       "        [-0.3617],\n",
       "        [ 1.1283],\n",
       "        [ 0.4459],\n",
       "        [ 0.2039],\n",
       "        [-2.2014],\n",
       "        [-0.9815],\n",
       "        [-0.1707],\n",
       "        [ 0.5598],\n",
       "        [-0.3142],\n",
       "        [-1.3065]])"
      ]
     },
     "execution_count": 113,
     "metadata": {},
     "output_type": "execute_result"
    }
   ],
   "source": [
    "t.view(-1, 1)   #  24,1"
   ]
  },
  {
   "cell_type": "code",
   "execution_count": 115,
   "id": "4fd4cb41",
   "metadata": {},
   "outputs": [],
   "source": [
    "t = torch.randn(12, 3, 4, 4)"
   ]
  },
  {
   "cell_type": "code",
   "execution_count": 116,
   "id": "e70b1e56",
   "metadata": {},
   "outputs": [],
   "source": [
    "t1 = t.view(12, 3*4*4)"
   ]
  },
  {
   "cell_type": "code",
   "execution_count": 117,
   "id": "fb7b206d",
   "metadata": {},
   "outputs": [
    {
     "data": {
      "text/plain": [
       "torch.Size([12, 48])"
      ]
     },
     "execution_count": 117,
     "metadata": {},
     "output_type": "execute_result"
    }
   ],
   "source": [
    "t1.shape"
   ]
  },
  {
   "cell_type": "code",
   "execution_count": 119,
   "id": "41160304",
   "metadata": {},
   "outputs": [
    {
     "data": {
      "text/plain": [
       "torch.Size([12, 48])"
      ]
     },
     "execution_count": 119,
     "metadata": {},
     "output_type": "execute_result"
    }
   ],
   "source": [
    "t1.shape"
   ]
  },
  {
   "cell_type": "code",
   "execution_count": 120,
   "id": "3123a87e",
   "metadata": {},
   "outputs": [],
   "source": [
    "t1 = t1.view(1, 12, 48)"
   ]
  },
  {
   "cell_type": "code",
   "execution_count": 121,
   "id": "940d7c99",
   "metadata": {},
   "outputs": [
    {
     "data": {
      "text/plain": [
       "torch.Size([1, 12, 48])"
      ]
     },
     "execution_count": 121,
     "metadata": {},
     "output_type": "execute_result"
    }
   ],
   "source": [
    "t1.shape"
   ]
  },
  {
   "cell_type": "code",
   "execution_count": 122,
   "id": "f72bc9f1",
   "metadata": {},
   "outputs": [],
   "source": [
    "t2 = torch.squeeze(t1)"
   ]
  },
  {
   "cell_type": "code",
   "execution_count": 123,
   "id": "fe1269ac",
   "metadata": {},
   "outputs": [
    {
     "data": {
      "text/plain": [
       "torch.Size([12, 48])"
      ]
     },
     "execution_count": 123,
     "metadata": {},
     "output_type": "execute_result"
    }
   ],
   "source": [
    "t2.shape"
   ]
  },
  {
   "cell_type": "markdown",
   "id": "7e33dbb0",
   "metadata": {},
   "source": [
    "# 张量的自动微分"
   ]
  },
  {
   "cell_type": "code",
   "execution_count": 125,
   "id": "887e83d9",
   "metadata": {},
   "outputs": [
    {
     "data": {
      "text/plain": [
       "False"
      ]
     },
     "execution_count": 125,
     "metadata": {},
     "output_type": "execute_result"
    }
   ],
   "source": [
    "t.requires_grad"
   ]
  },
  {
   "cell_type": "code",
   "execution_count": 155,
   "id": "d0d89b3c",
   "metadata": {},
   "outputs": [],
   "source": [
    "t = torch.ones(2, 2, requires_grad=True)"
   ]
  },
  {
   "cell_type": "code",
   "execution_count": 156,
   "id": "46ad1c2b",
   "metadata": {},
   "outputs": [
    {
     "data": {
      "text/plain": [
       "True"
      ]
     },
     "execution_count": 156,
     "metadata": {},
     "output_type": "execute_result"
    }
   ],
   "source": [
    "t.requires_grad"
   ]
  },
  {
   "cell_type": "code",
   "execution_count": 158,
   "id": "1589dd43",
   "metadata": {},
   "outputs": [],
   "source": [
    "y = t + 5"
   ]
  },
  {
   "cell_type": "code",
   "execution_count": 159,
   "id": "a3779d14",
   "metadata": {},
   "outputs": [
    {
     "data": {
      "text/plain": [
       "<AddBackward0 at 0x2074281cca0>"
      ]
     },
     "execution_count": 159,
     "metadata": {},
     "output_type": "execute_result"
    }
   ],
   "source": [
    "y.grad_fn    # grad_fn 返回计算得到此张量的方法"
   ]
  },
  {
   "cell_type": "code",
   "execution_count": 160,
   "id": "f4a0248b",
   "metadata": {},
   "outputs": [
    {
     "data": {
      "text/plain": [
       "True"
      ]
     },
     "execution_count": 160,
     "metadata": {},
     "output_type": "execute_result"
    }
   ],
   "source": [
    "y.requires_grad"
   ]
  },
  {
   "cell_type": "code",
   "execution_count": 161,
   "id": "0f1b4876",
   "metadata": {},
   "outputs": [],
   "source": [
    "z = y * 2"
   ]
  },
  {
   "cell_type": "code",
   "execution_count": 162,
   "id": "9af422ca",
   "metadata": {},
   "outputs": [],
   "source": [
    "out = z.mean()"
   ]
  },
  {
   "cell_type": "code",
   "execution_count": 136,
   "id": "f3b48658",
   "metadata": {},
   "outputs": [
    {
     "data": {
      "text/plain": [
       "tensor(12., grad_fn=<MeanBackward0>)"
      ]
     },
     "execution_count": 136,
     "metadata": {},
     "output_type": "execute_result"
    }
   ],
   "source": [
    "out    # 标量值"
   ]
  },
  {
   "cell_type": "code",
   "execution_count": 163,
   "id": "9068ab23",
   "metadata": {},
   "outputs": [],
   "source": [
    "out.backward()"
   ]
  },
  {
   "cell_type": "code",
   "execution_count": 138,
   "id": "007b9b59",
   "metadata": {},
   "outputs": [
    {
     "data": {
      "text/plain": [
       "tensor([[0.5000, 0.5000],\n",
       "        [0.5000, 0.5000]])"
      ]
     },
     "execution_count": 138,
     "metadata": {},
     "output_type": "execute_result"
    }
   ],
   "source": [
    "t.grad   # 打印t的梯度， d（out）/d(t)"
   ]
  },
  {
   "cell_type": "code",
   "execution_count": 139,
   "id": "16aea3da",
   "metadata": {},
   "outputs": [],
   "source": [
    "# grad 这个属性记录计算得到的梯度"
   ]
  },
  {
   "cell_type": "code",
   "execution_count": 140,
   "id": "8d317d30",
   "metadata": {},
   "outputs": [
    {
     "data": {
      "text/plain": [
       "tensor([[0.5000, 0.5000],\n",
       "        [0.5000, 0.5000]])"
      ]
     },
     "execution_count": 140,
     "metadata": {},
     "output_type": "execute_result"
    }
   ],
   "source": [
    "t.grad"
   ]
  },
  {
   "cell_type": "code",
   "execution_count": 141,
   "id": "b9a31c50",
   "metadata": {},
   "outputs": [],
   "source": [
    "t.grad_fn"
   ]
  },
  {
   "cell_type": "code",
   "execution_count": 142,
   "id": "df9b9494",
   "metadata": {},
   "outputs": [
    {
     "data": {
      "text/plain": [
       "<MeanBackward0 at 0x20742723e20>"
      ]
     },
     "execution_count": 142,
     "metadata": {},
     "output_type": "execute_result"
    }
   ],
   "source": [
    "out.grad_fn"
   ]
  },
  {
   "cell_type": "code",
   "execution_count": 143,
   "id": "4af9d120",
   "metadata": {},
   "outputs": [
    {
     "data": {
      "text/plain": [
       "tensor([[1., 1.],\n",
       "        [1., 1.]], requires_grad=True)"
      ]
     },
     "execution_count": 143,
     "metadata": {},
     "output_type": "execute_result"
    }
   ],
   "source": [
    " t"
   ]
  },
  {
   "cell_type": "code",
   "execution_count": 144,
   "id": "5d70c764",
   "metadata": {},
   "outputs": [
    {
     "name": "stdout",
     "output_type": "stream",
     "text": [
      "False\n"
     ]
    }
   ],
   "source": [
    "with torch.no_grad():\n",
    "    y = t + 2\n",
    "    print(y.requires_grad)"
   ]
  },
  {
   "cell_type": "code",
   "execution_count": 145,
   "id": "bb2d3378",
   "metadata": {},
   "outputs": [
    {
     "data": {
      "text/plain": [
       "tensor([[1., 1.],\n",
       "        [1., 1.]], requires_grad=True)"
      ]
     },
     "execution_count": 145,
     "metadata": {},
     "output_type": "execute_result"
    }
   ],
   "source": [
    "t"
   ]
  },
  {
   "cell_type": "code",
   "execution_count": 146,
   "id": "064ab4ff",
   "metadata": {},
   "outputs": [
    {
     "data": {
      "text/plain": [
       "tensor([[1., 1.],\n",
       "        [1., 1.]])"
      ]
     },
     "execution_count": 146,
     "metadata": {},
     "output_type": "execute_result"
    }
   ],
   "source": [
    "t.requires_grad_(False)"
   ]
  },
  {
   "cell_type": "code",
   "execution_count": 147,
   "id": "a78d1af7",
   "metadata": {},
   "outputs": [
    {
     "data": {
      "text/plain": [
       "False"
      ]
     },
     "execution_count": 147,
     "metadata": {},
     "output_type": "execute_result"
    }
   ],
   "source": [
    "t.requires_grad"
   ]
  },
  {
   "cell_type": "code",
   "execution_count": 169,
   "id": "b9704723",
   "metadata": {},
   "outputs": [
    {
     "data": {
      "text/plain": [
       "tensor(12., grad_fn=<MeanBackward0>)"
      ]
     },
     "execution_count": 169,
     "metadata": {},
     "output_type": "execute_result"
    }
   ],
   "source": [
    "out"
   ]
  },
  {
   "cell_type": "code",
   "execution_count": 170,
   "id": "76cb7068",
   "metadata": {},
   "outputs": [],
   "source": [
    "result = out.detach()"
   ]
  },
  {
   "cell_type": "code",
   "execution_count": 171,
   "id": "e953c328",
   "metadata": {},
   "outputs": [
    {
     "data": {
      "text/plain": [
       "False"
      ]
     },
     "execution_count": 171,
     "metadata": {},
     "output_type": "execute_result"
    }
   ],
   "source": [
    "result.requires_grad"
   ]
  },
  {
   "cell_type": "code",
   "execution_count": 172,
   "id": "fcd4ea4a",
   "metadata": {},
   "outputs": [
    {
     "data": {
      "text/plain": [
       "tensor(12.)"
      ]
     },
     "execution_count": 172,
     "metadata": {},
     "output_type": "execute_result"
    }
   ],
   "source": [
    "out.data"
   ]
  },
  {
   "cell_type": "code",
   "execution_count": null,
   "id": "32ca560c",
   "metadata": {},
   "outputs": [],
   "source": []
  }
 ],
 "metadata": {
  "kernelspec": {
   "display_name": "tch19gpu",
   "language": "python",
   "name": "tch19gpu"
  },
  "language_info": {
   "codemirror_mode": {
    "name": "ipython",
    "version": 3
   },
   "file_extension": ".py",
   "mimetype": "text/x-python",
   "name": "python",
   "nbconvert_exporter": "python",
   "pygments_lexer": "ipython3",
   "version": "3.8.10"
  }
 },
 "nbformat": 4,
 "nbformat_minor": 5
}
